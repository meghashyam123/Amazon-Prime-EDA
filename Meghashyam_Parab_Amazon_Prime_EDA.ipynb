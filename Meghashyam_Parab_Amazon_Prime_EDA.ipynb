{
  "nbformat": 4,
  "nbformat_minor": 0,
  "metadata": {
    "colab": {
      "private_outputs": true,
      "provenance": [],
      "collapsed_sections": [
        "mDgbUHAGgjLW",
        "85gYPyotYoAp"
      ]
    },
    "kernelspec": {
      "name": "python3",
      "display_name": "Python 3"
    },
    "language_info": {
      "name": "python"
    }
  },
  "cells": [
    {
      "cell_type": "markdown",
      "source": [
        "# **Project Name**    - Amazon Prime EDA\n",
        "\n",
        "\n"
      ],
      "metadata": {
        "id": "vncDsAP0Gaoa"
      }
    },
    {
      "cell_type": "markdown",
      "source": [
        "##### **Project Type**    - EDA\n",
        "##### **Contribution**    - Individual\n",
        "##### Team Member 1 - Meghashyam Parab\n"
      ],
      "metadata": {
        "id": "beRrZCGUAJYm"
      }
    },
    {
      "cell_type": "markdown",
      "source": [
        "# **Project Summary -**"
      ],
      "metadata": {
        "id": "FJNUwmbgGyua"
      }
    },
    {
      "cell_type": "markdown",
      "source": [
        "📊 Amazon Prime EDA: Unlocking Insights from Streaming Data\n",
        "\n",
        "🎬 Welcome to the ultimate deep dive into Amazon Prime's content landscape! This project unravels the mysteries behind movies and TV shows on Amazon Prime through Exploratory Data Analysis (EDA). From genre trends to IMDb ratings, we've crunched the numbers to uncover what makes Prime Video tick.\n",
        "\n",
        "---\n",
        "\n",
        "🚀 Project Highlights\n",
        "\n",
        "🔹 Data Cleaning & Preprocessing – Handling missing values, duplicate entries, and ensuring data integrity.\n",
        "\n",
        "🔹 Genre & Content Trends – What types of content dominate Prime Video? Movies vs. TV Shows?\n",
        "\n",
        "🔹 IMDb Ratings & User Preferences – Do higher-rated movies follow a pattern?\n",
        "\n",
        "🔹 Country-Wise Content Distribution – Which countries contribute the most content?\n",
        "\n",
        "🔹 Release Year Analysis – Is Prime focusing on newer content or old classics?\n",
        "\n",
        "🔹 Visualizing Insights – Beautiful plots and interactive charts for better understanding.\n",
        "\n",
        "---\n",
        "\n",
        "📈 Tech Stack\n",
        "\n",
        "✅ Python (Pandas, NumPy, Matplotlib, Seaborn, Plotly)\n",
        "\n",
        "✅ Jupyter Notebook for EDA\n",
        "\n",
        "✅ Data sourced from Kaggle/Amazon Prime dataset\n",
        "\n",
        "----\n",
        "\n",
        "🔍 Findings & Insights\n",
        "\n",
        "💡 Most of Amazon Prime's content comes from the United States & India.\n",
        "\n",
        "💡 TV Shows are generally higher-rated than movies.\n",
        "\n",
        "💡 Comedy & Drama dominate as the most popular genres.\n",
        "\n",
        "💡 Amazon Prime has been focusing on recent releases (post-2010) more than classics.\n",
        "\n",
        "----\n",
        "\n",
        "🎯 Next Steps\n",
        "\n",
        "📌 Sentiment Analysis on Amazon Prime reviews\n",
        "\n",
        "📌 Predictive modeling for content success\n",
        "\n",
        "📌 Comparing Amazon Prime with Netflix & Disney+"
      ],
      "metadata": {
        "id": "F6v_1wHtG2nS"
      }
    },
    {
      "cell_type": "markdown",
      "source": [
        "# **GitHub Link -**"
      ],
      "metadata": {
        "id": "w6K7xa23Elo4"
      }
    },
    {
      "cell_type": "markdown",
      "source": [
        "https://github.com/meghashyam123/Amazon-Prime-EDA"
      ],
      "metadata": {
        "id": "h1o69JH3Eqqn"
      }
    },
    {
      "cell_type": "markdown",
      "source": [
        "# **Problem Statement**\n"
      ],
      "metadata": {
        "id": "yQaldy8SH6Dl"
      }
    },
    {
      "cell_type": "markdown",
      "source": [
        "Amazon Prime Video hosts a massive library of content, but what truly keeps viewers hooked? Are IMDb ratings a reliable indicator of success? Do specific genres, runtimes, or production countries dominate? How has content evolved over the years?\n",
        "\n",
        "🔍 Problem Statement:\n",
        "\n",
        "\"To analyze Amazon Prime’s content library through Exploratory Data Analysis (EDA) and uncover key insights about movie/TV show trends, audience preferences, and content performance. This will help optimize recommendations, improve user engagement, and drive strategic content decisions.\"\n",
        "\n",
        "🎯 Key Goals:\n",
        "\n",
        "✅ Identify top-performing genres, countries, and content types\n",
        "\n",
        "✅ Analyze IMDb scores vs. runtime, release year, and production trends\n",
        "\n",
        "✅ Spot patterns in audience preferences for better recommendations\n",
        "\n",
        "✅ Provide data-backed insights to boost engagement & revenue"
      ],
      "metadata": {
        "id": "DpeJGUA3kjGy"
      }
    },
    {
      "cell_type": "markdown",
      "source": [
        "#### **Define Your Business Objective?**"
      ],
      "metadata": {
        "id": "PH-0ReGfmX4f"
      }
    },
    {
      "cell_type": "markdown",
      "source": [
        "The primary objective of conducting an Exploratory Data Analysis (EDA) on Amazon Prime is to derive actionable insights that can enhance customer engagement, optimize content strategy, and improve overall business performance. The key goals include:\n",
        "\n",
        "Understanding Customer Behavior :\n",
        "\n",
        "Identify user preferences based on watch history, genres, ratings, and subscription trends.\n",
        "Analyze customer retention patterns and churn rates.\n",
        "\n",
        "Content Performance Analysis:\n",
        "\n",
        "Determine which genres, movies, and TV shows perform best in terms of viewership and engagement.\n",
        "Identify underperforming content and factors contributing to low engagement.\n",
        "\n",
        "Competitor Benchmarking:\n",
        "\n",
        "Compare Amazon Prime’s performance against competitors like Netflix and Disney+ based on content offerings and user engagement.\n",
        "\n",
        "Subscription & Revenue Insights:\n",
        "\n",
        "Analyze subscription trends across different demographics and geographic regions.\n",
        "Identify factors influencing subscription cancellations and renewals.\n",
        "\n",
        "\n"
      ],
      "metadata": {
        "id": "PhDvGCAqmjP1"
      }
    },
    {
      "cell_type": "markdown",
      "source": [
        "# **General Guidelines** : -  "
      ],
      "metadata": {
        "id": "mDgbUHAGgjLW"
      }
    },
    {
      "cell_type": "markdown",
      "source": [
        "1.   Well-structured, formatted, and commented code is required.\n",
        "2.   Exception Handling, Production Grade Code & Deployment Ready Code will be a plus. Those students will be awarded some additional credits.\n",
        "     \n",
        "     The additional credits will have advantages over other students during Star Student selection.\n",
        "       \n",
        "             [ Note: - Deployment Ready Code is defined as, the whole .ipynb notebook should be executable in one go\n",
        "                       without a single error logged. ]\n",
        "\n",
        "3.   Each and every logic should have proper comments.\n",
        "4. You may add as many number of charts you want. Make Sure for each and every chart the following format should be answered.\n",
        "        \n",
        "\n",
        "```\n",
        "# Chart visualization code\n",
        "```\n",
        "            \n",
        "\n",
        "*   Why did you pick the specific chart?\n",
        "*   What is/are the insight(s) found from the chart?\n",
        "* Will the gained insights help creating a positive business impact?\n",
        "Are there any insights that lead to negative growth? Justify with specific reason.\n",
        "\n",
        "5. You have to create at least 20 logical & meaningful charts having important insights.\n",
        "\n",
        "\n",
        "[ Hints : - Do the Vizualization in  a structured way while following \"UBM\" Rule.\n",
        "\n",
        "U - Univariate Analysis,\n",
        "\n",
        "B - Bivariate Analysis (Numerical - Categorical, Numerical - Numerical, Categorical - Categorical)\n",
        "\n",
        "M - Multivariate Analysis\n",
        " ]\n",
        "\n",
        "\n",
        "\n"
      ],
      "metadata": {
        "id": "ZrxVaUj-hHfC"
      }
    },
    {
      "cell_type": "markdown",
      "source": [
        "# ***Let's Begin !***"
      ],
      "metadata": {
        "id": "O_i_v8NEhb9l"
      }
    },
    {
      "cell_type": "markdown",
      "source": [
        "## ***1. Know Your Data***"
      ],
      "metadata": {
        "id": "HhfV-JJviCcP"
      }
    },
    {
      "cell_type": "markdown",
      "source": [
        "### Import Libraries"
      ],
      "metadata": {
        "id": "Y3lxredqlCYt"
      }
    },
    {
      "cell_type": "code",
      "source": [
        "# Import Libraries\n",
        "\n",
        "import  matplotlib.pyplot as plt\n",
        "import seaborn as sns\n",
        "import plotly.graph_objects as go\n",
        "import plotly.express as px\n",
        "import plotly.subplots as sp\n",
        "import plotly.figure_factory as ff\n",
        "from itertools import cycle\n",
        "import re\n",
        "import pandas as pd\n",
        "import numpy as np\n",
        "import warnings\n",
        "warnings.filterwarnings('ignore')\n",
        "warnings.simplefilter('ignore')\n"
      ],
      "metadata": {
        "id": "M8Vqi-pPk-HR"
      },
      "execution_count": null,
      "outputs": []
    },
    {
      "cell_type": "markdown",
      "source": [
        "### Dataset Loading"
      ],
      "metadata": {
        "id": "3RnN4peoiCZX"
      }
    },
    {
      "cell_type": "code",
      "source": [
        "credit_df = pd.read_csv(\"/content/credits.csv\")\n",
        "title_df = pd.read_csv(\"/content/titles.csv\")"
      ],
      "metadata": {
        "id": "4CkvbW_SlZ_R"
      },
      "execution_count": null,
      "outputs": []
    },
    {
      "cell_type": "markdown",
      "source": [
        "### Dataset First View"
      ],
      "metadata": {
        "id": "x71ZqKXriCWQ"
      }
    },
    {
      "cell_type": "code",
      "source": [
        "# Dataset First Look\n",
        "print(title_df.head())\n",
        "print(credit_df.head())"
      ],
      "metadata": {
        "id": "LWNFOSvLl09H"
      },
      "execution_count": null,
      "outputs": []
    },
    {
      "cell_type": "markdown",
      "source": [
        "### Dataset Rows & Columns count"
      ],
      "metadata": {
        "id": "7hBIi_osiCS2"
      }
    },
    {
      "cell_type": "code",
      "source": [
        "# Dataset Rows & Columns count\n",
        "title_df.shape"
      ],
      "metadata": {
        "id": "Kllu7SJgmLij"
      },
      "execution_count": null,
      "outputs": []
    },
    {
      "cell_type": "code",
      "source": [
        "credit_df.shape"
      ],
      "metadata": {
        "id": "9wi3feR80zhu"
      },
      "execution_count": null,
      "outputs": []
    },
    {
      "cell_type": "markdown",
      "source": [
        "### Dataset Information"
      ],
      "metadata": {
        "id": "JlHwYmJAmNHm"
      }
    },
    {
      "cell_type": "code",
      "source": [
        "print(title_df.info())\n",
        "print(credit_df.info())"
      ],
      "metadata": {
        "id": "e9hRXRi6meOf"
      },
      "execution_count": null,
      "outputs": []
    },
    {
      "cell_type": "markdown",
      "source": [
        "#### Duplicate Values"
      ],
      "metadata": {
        "id": "35m5QtbWiB9F"
      }
    },
    {
      "cell_type": "code",
      "source": [
        "title_df.duplicated().sum()\n"
      ],
      "metadata": {
        "id": "1sLdpKYkmox0"
      },
      "execution_count": null,
      "outputs": []
    },
    {
      "cell_type": "code",
      "source": [
        "credit_df.duplicated().sum()\n"
      ],
      "metadata": {
        "id": "JE_UHpb-1O5h"
      },
      "execution_count": null,
      "outputs": []
    },
    {
      "cell_type": "markdown",
      "source": [
        "#### Missing Values/Null Values"
      ],
      "metadata": {
        "id": "PoPl-ycgm1ru"
      }
    },
    {
      "cell_type": "code",
      "source": [
        "title_df.isna().sum()\n"
      ],
      "metadata": {
        "id": "GgHWkxvamxVg"
      },
      "execution_count": null,
      "outputs": []
    },
    {
      "cell_type": "code",
      "source": [
        "credit_df.isna().sum()\n"
      ],
      "metadata": {
        "id": "-qXZJB3q1WUQ"
      },
      "execution_count": null,
      "outputs": []
    },
    {
      "cell_type": "code",
      "source": [
        "# percentile of missing values\n",
        "\n",
        "round(100*(credit_df.isnull().sum()/len(credit_df.index)),2).sort_values(ascending = False)\n",
        "round(100*(title_df.isnull().sum()/len(title_df.index)),2).sort_values(ascending = False)\n",
        "\n"
      ],
      "metadata": {
        "id": "Bw0ieCev1bBz"
      },
      "execution_count": null,
      "outputs": []
    },
    {
      "cell_type": "code",
      "source": [
        "# Visualizing the missing values\n",
        "import missingno as msno\n",
        "msno.bar(title_df)\n",
        "plt.show()"
      ],
      "metadata": {
        "id": "3q5wnI3om9sJ"
      },
      "execution_count": null,
      "outputs": []
    },
    {
      "cell_type": "code",
      "source": [
        "msno.bar(credit_df)\n",
        "plt.show()"
      ],
      "metadata": {
        "id": "2Ux-5QqUCjjW"
      },
      "execution_count": null,
      "outputs": []
    },
    {
      "cell_type": "markdown",
      "source": [
        "### What did you know about your dataset?"
      ],
      "metadata": {
        "id": "H0kj-8xxnORC"
      }
    },
    {
      "cell_type": "markdown",
      "source": [
        "Overview of the Datasets\n",
        "\n",
        "**credits.csv (124,235 entries, 5 columns)**\n",
        "\n",
        "Contains details about cast and crew members.\n",
        "\n",
        "Key columns: person_id, id (links to titles.csv), name, character (for actors), and role (e.g., actor, director).\n",
        "Missing values: character column has some missing values.\n",
        "\n",
        "\n",
        "**titles.csv (9,871 entries, 15 columns)**\n",
        "\n",
        "Contains details about shows and movies.\n",
        "\n",
        "Key columns: id, title, type (MOVIE/SHOW), release_year, genres, imdb_score, runtime, production_countries.\n",
        "\n"
      ],
      "metadata": {
        "id": "gfoNAAC-nUe_"
      }
    },
    {
      "cell_type": "markdown",
      "source": [
        "## ***2. Understanding Your Variables***"
      ],
      "metadata": {
        "id": "nA9Y7ga8ng1Z"
      }
    },
    {
      "cell_type": "code",
      "source": [
        "rows, cols = credit_df.shape\n",
        "rows, cols"
      ],
      "metadata": {
        "id": "j7xfkqrt5Ag5"
      },
      "execution_count": null,
      "outputs": []
    },
    {
      "cell_type": "code",
      "source": [
        "rows, cols = title_df.shape\n",
        "rows, cols"
      ],
      "metadata": {
        "id": "DnOaZdaE5Q5t"
      },
      "execution_count": null,
      "outputs": []
    },
    {
      "cell_type": "markdown",
      "source": [
        "### Variables Description"
      ],
      "metadata": {
        "id": "PBTbrJXOngz2"
      }
    },
    {
      "cell_type": "markdown",
      "source": [
        "The dataset contains the following key variables:  \n",
        "\n",
        "| Column Name      | Description |\n",
        "|-----------------|-------------|\n",
        "| `id` | Unique identifier for each show or movie |\n",
        "| `title` | Name of the show or movie |\n",
        "| `type` | Specifies whether the content is a \"Movie\" or \"TV Show\" |\n",
        "| `release_year` | Year when the show or movie was released |\n",
        "| `age_certification` | Age rating or certification of the content (e.g., PG, R, 18+) |\n",
        "| `runtime` | Duration of the content in minutes |\n",
        "| `genres` | List of genres associated with the show or movie |\n",
        "| `production_countries` | Country or countries where the content was produced |\n",
        "| `seasons` | Number of seasons (if it's a TV show) |\n",
        "| `imdb_score` | IMDb rating of the show or movie |\n",
        "| `imdb_votes` | Number of votes the show or movie has on IMDb |\n",
        "| `tmdb_popularity` | Popularity score on The Movie Database (TMDB) |\n",
        "| `tmdb_score` | TMDB rating of the show or movie |\n",
        "| `cast` | List of main actors in the show or movie |\n",
        "| `crew` | List of crew members, including directors and producers |\n",
        "\n",
        "---"
      ],
      "metadata": {
        "id": "aJV4KIxSnxay"
      }
    },
    {
      "cell_type": "markdown",
      "source": [
        "### Check Unique Values for each variable."
      ],
      "metadata": {
        "id": "u3PMJOP6ngxN"
      }
    },
    {
      "cell_type": "code",
      "source": [
        "# Check Unique Values for each variable.\n",
        "for column in credit_df.columns:\n",
        "    unique_values = credit_df[column].unique()\n",
        "    print(f\"Unique values for '{column}': {unique_values}\")"
      ],
      "metadata": {
        "id": "zms12Yq5n-jE"
      },
      "execution_count": null,
      "outputs": []
    },
    {
      "cell_type": "code",
      "source": [
        "for x in credit_df.columns:\n",
        "    print(f\"{x} - {credit_df[x].nunique()}\")"
      ],
      "metadata": {
        "id": "6eyifWfoBBMh"
      },
      "execution_count": null,
      "outputs": []
    },
    {
      "cell_type": "markdown",
      "source": [
        "## 3. ***Data Wrangling***"
      ],
      "metadata": {
        "id": "dauF4eBmngu3"
      }
    },
    {
      "cell_type": "markdown",
      "source": [
        "### Data Wrangling Code"
      ],
      "metadata": {
        "id": "bKJF3rekwFvQ"
      }
    },
    {
      "cell_type": "code",
      "source": [
        "# Handling missing values in 'age_certification' and 'runtime'\n",
        "title_df.fillna({'age_certification': 'Unknown', 'runtime': title_df['runtime'].median()}, inplace=True)\n",
        "\n",
        "# Removing rows with missing 'imdb_score' as it's crucial for analysis\n",
        "title_df.dropna(subset=['imdb_score'], inplace=True)\n",
        "\n",
        "# Removing rows with any missing values in the credit_df\n",
        "credit_df.dropna(inplace=True)\n",
        "\n",
        "# Ensuring 'release_year' and 'imdb_score' are numeric\n",
        "title_df['release_year'] = pd.to_numeric(title_df['release_year'], errors='coerce')\n",
        "title_df['imdb_score'] = pd.to_numeric(title_df['imdb_score'], errors='coerce')"
      ],
      "metadata": {
        "id": "wk-9a2fpoLcV"
      },
      "execution_count": null,
      "outputs": []
    },
    {
      "cell_type": "markdown",
      "source": [
        "### What all manipulations have you done and insights you found?\n",
        "\n",
        "\n",
        "\n"
      ],
      "metadata": {
        "id": "MSa1f5Uengrz"
      }
    },
    {
      "cell_type": "markdown",
      "source": [
        "🛠 Data Manipulations Performed :\n",
        "\n",
        "Loaded the datasets: Read both CSV files using pandas.\n",
        "\n",
        "Checked dataset structure: Used .info() to understand column types, missing values, and dataset size.\n",
        "\n",
        "Displayed first few rows: Used .head() to inspect the structure and sample values.\n",
        "\n",
        "Identified missing values:age_certification, seasons, imdb_score, and tmdb_score have missing values in titles.csv.\n",
        "character has some missing values in credits.csv.\n",
        "\n",
        "Checked column relationships:\n",
        "id is the key linking titles and credits.\n",
        "imdb_score and tmdb_score can be used for rating analysis.\n",
        "\n",
        "---\n",
        "\n",
        "📊 Key Insights Found :\n",
        "\n",
        "1️⃣ Content Distribution by Type (Movies vs. TV Shows)\n",
        "The dataset contains both movies and TV shows.\n",
        "Need to check if one type dominates the dataset.\n",
        "\n",
        "2️⃣ IMDb & TMDB Scores Missing for Some Titles\n",
        "Many records lack IMDb or TMDB scores, meaning some popular movies/shows may not have enough rating data.\n",
        "\n",
        "3️⃣ Genre Distribution & Popularity\n",
        "Movies & TV shows belong to multiple genres (e.g., ['drama', 'action']).\n",
        "Further analysis can show which genres are most popular.\n"
      ],
      "metadata": {
        "id": "LbyXE7I1olp8"
      }
    },
    {
      "cell_type": "markdown",
      "source": [
        "## ***4. Data Vizualization, Storytelling & Experimenting with charts : Understand the relationships between variables***"
      ],
      "metadata": {
        "id": "GF8Ens_Soomf"
      }
    },
    {
      "cell_type": "markdown",
      "source": [
        "#### Distribution of Movies vs TV Shows\n"
      ],
      "metadata": {
        "id": "0wOQAZs5pc--"
      }
    },
    {
      "cell_type": "code",
      "source": [
        "# Chart - 1 visualization code\n",
        "plt.figure(figsize=(7,4))\n",
        "title_df['type'].value_counts().plot(kind='pie', autopct='%1.1f%%', colors=['#ff9999','#66b3ff'])\n",
        "plt.title('Movies vs. TV Shows Distribution')\n",
        "plt.ylabel('')\n",
        "plt.show()"
      ],
      "metadata": {
        "id": "exuEhDpzHV7Q"
      },
      "execution_count": null,
      "outputs": []
    },
    {
      "cell_type": "markdown",
      "source": [
        "##### 1. Why did you pick the specific chart?"
      ],
      "metadata": {
        "id": "K5QZ13OEpz2H"
      }
    },
    {
      "cell_type": "markdown",
      "source": [
        "The pie chart visually represents the distribution of content types on Amazon Prime, showing that:\n",
        "\n",
        "\n",
        "*   86.8% of the content consists of Movies\n",
        "\n",
        "*   Only 13.2% consists of TV Shows\n",
        "\n",
        "\n",
        "\n",
        "\n",
        "\n"
      ],
      "metadata": {
        "id": "XESiWehPqBRc"
      }
    },
    {
      "cell_type": "markdown",
      "source": [
        "##### 2. What is/are the insight(s) found from the chart?"
      ],
      "metadata": {
        "id": "lQ7QKXXCp7Bj"
      }
    },
    {
      "cell_type": "markdown",
      "source": [
        "Key Insights from the Chart:\n",
        "\n",
        "Movies make up 86.8% of the dataset.\n",
        "TV Shows account for only 13.2%, indicating that Amazon Prime's catalog is heavily dominated by movies.\n",
        "This imbalance suggests that users might have more movie choices compared to TV series on the platform.\n"
      ],
      "metadata": {
        "id": "C_j1G7yiqdRP"
      }
    },
    {
      "cell_type": "markdown",
      "source": [
        "##### 3. Will the gained insights help creating a positive business impact?\n",
        "Are there any insights that lead to negative growth? Justify with specific reason."
      ],
      "metadata": {
        "id": "448CDAPjqfQr"
      }
    },
    {
      "cell_type": "markdown",
      "source": [
        "📊 **Business Impact of Gained Insights**\n",
        "\n",
        "✅ Positive Impact:\n",
        "\n",
        "Content Strategy: Since 86.8% of the catalog is movies, Amazon Prime can focus on acquiring more TV shows to balance the content mix and attract binge-watchers.\n",
        "Genre Optimization: Identifying popular genres helps Amazon invest in high-demand content and tailor recommendations.\n",
        "Localized Expansion: Analyzing production countries guides regional content acquisition, boosting engagement in untapped markets.\n",
        "\n",
        "\n",
        "\n",
        "---\n",
        "\n",
        "\n",
        "\n",
        "⚠️ Potential Negative Growth Areas:\n",
        "\n",
        "Limited TV Shows: With only 13.2% of content as TV series, binge-watchers may shift to competitors (like Netflix, which has a stronger TV lineup).\n",
        "Missing Ratings Data: Incomplete IMDb/TMDB scores mean Amazon might be promoting low-quality content, affecting user satisfaction.\n",
        "Unbalanced Age Ratings: If most content lacks age certification, family-friendly users may hesitate to subscribe."
      ],
      "metadata": {
        "id": "3cspy4FjqxJW"
      }
    },
    {
      "cell_type": "markdown",
      "source": [
        "#### **Top 10 Most Popular Movies**"
      ],
      "metadata": {
        "id": "KSlN3yHqYklG"
      }
    },
    {
      "cell_type": "code",
      "source": [
        "top_10_movies = title_df[(title_df['type'] == 'MOVIE')].sort_values(by=['imdb_votes'], ascending=False).head(10)\n",
        "\n",
        "plt.figure(figsize=(12, 6))\n",
        "sns.barplot(y='title', x='imdb_votes', data=top_10_movies, palette='viridis')\n",
        "plt.title('Top 10 Most Popular Movies (Based on IMDb Votes)')\n",
        "plt.xlabel('IMDb Votes')\n",
        "plt.ylabel('Movie Title')\n",
        "plt.show()"
      ],
      "metadata": {
        "id": "R4YgtaqtYklH"
      },
      "execution_count": null,
      "outputs": []
    },
    {
      "cell_type": "markdown",
      "source": [
        "##### 1. Why did you pick the specific chart?"
      ],
      "metadata": {
        "id": "t6dVpIINYklI"
      }
    },
    {
      "cell_type": "markdown",
      "source": [
        "I chose a horizontal bar chart because it offers better readability and clarity, especially when dealing with long movie titles.\n",
        "\n",
        "Here's why:\n",
        "\n",
        "📌 Improved Label Visibility – Movie titles are easier to read when listed vertically rather than squeezed at an angle on the x-axis.\n",
        "\n",
        "📌 Better Comparison – The horizontal format allows for a clearer visual comparison of IMDb votes, making it easy to see which movies are the most popular.\n",
        "\n",
        "📌 Space Efficiency – Works well for ranking-based data, ensuring that bars are evenly spaced and data isn’t cluttered.\n",
        "\n",
        "📌 User-Friendly Design – A horizontal layout is more intuitive when displaying top ranked items, as viewers naturally scan from top to bottom."
      ],
      "metadata": {
        "id": "5aaW0BYyYklI"
      }
    },
    {
      "cell_type": "markdown",
      "source": [
        "##### 2. What is/are the insight(s) found from the chart?"
      ],
      "metadata": {
        "id": "ijmpgYnKYklI"
      }
    },
    {
      "cell_type": "markdown",
      "source": [
        "📊 **Insights from the Chart: Top 10 Most Popular Movies (Based on IMDb Votes)**\n",
        "\n",
        "1️⃣ \"Titanic\" is the most popular movie, receiving the highest IMDb votes, indicating its evergreen appeal and strong rewatch value.\n",
        "\n",
        "2️⃣ Classic thrillers and dramas dominate the list, including The Usual Suspects, Braveheart, and The Sixth Sense, proving that older, critically acclaimed films still attract significant audience engagement.\n",
        "\n",
        "3️⃣ Action and Sci-Fi movies remain a stronghold, with The Terminator, Skyfall, and District 9 securing top spots, confirming audience preference for high-adrenaline content.\n",
        "\n",
        "4️⃣ Animated movies like \"Shrek\" have high engagement, suggesting a demand for family-friendly content alongside action and thrillers.\n",
        "\n",
        "5️⃣ Diverse genre representation: The list includes romance, thriller, sci-fi, drama, and animation, showing Amazon Prime's broad audience reach."
      ],
      "metadata": {
        "id": "PSx9atu2YklI"
      }
    },
    {
      "cell_type": "markdown",
      "source": [
        "##### 3. Will the gained insights help creating a positive business impact?\n",
        "Are there any insights that lead to negative growth? Justify with specific reason."
      ],
      "metadata": {
        "id": "-JiQyfWJYklI"
      }
    },
    {
      "cell_type": "markdown",
      "source": [
        "📊 **Business Impact of Gained Insights**\n",
        "\n",
        "✅ Positive Impact:\n",
        "\n",
        "Boost User Engagement 🚀 – Featuring top-voted movies like Titanic and The Usual Suspects in recommendations can increase watch time.\n",
        "Content Acquisition Strategy 🎯 – High audience interest in action, thriller, and animation suggests investing more in these genres.\n",
        "Targeted Promotions 📢 – Running campaigns on classic and high-voted films can attract both new and returning viewers.\n",
        "\n",
        "\n",
        "\n",
        "\n",
        "---\n",
        "\n",
        "⚠️ Potential Negative Growth Areas:\n",
        "\n",
        "\n",
        "Over-Reliance on Older Content 🕰️ – Most top movies are older classics. A lack of fresh, high-engagement titles may cause younger audiences to look elsewhere.\n",
        "Genre Imbalance ⚖️ – Heavy focus on thrillers and action; underrepresentation of newer niche genres (e.g., documentaries, indie films) might limit audience diversity.\n"
      ],
      "metadata": {
        "id": "BcBbebzrYklV"
      }
    },
    {
      "cell_type": "markdown",
      "source": [
        "#### Top 10 Most popular shows\n"
      ],
      "metadata": {
        "id": "EM7whBJCYoAo"
      }
    },
    {
      "cell_type": "code",
      "source": [
        "top_10_shows = title_df[(title_df['type'] == 'SHOW')].sort_values(by=['imdb_votes'], ascending=False).head(10)\n",
        "plt.figure(figsize=(12, 6))\n",
        "sns.barplot(y='title', x='imdb_votes', data=top_10_shows, palette='viridis')\n",
        "plt.title('Top 10 Most Popular Shows (Based on IMDb Votes)')\n",
        "plt.xlabel('IMDb Votes')\n",
        "plt.ylabel('Show Title')\n",
        "plt.show()\n"
      ],
      "metadata": {
        "id": "-6gEITQ66Gwt"
      },
      "execution_count": null,
      "outputs": []
    },
    {
      "cell_type": "markdown",
      "source": [
        "##### 1. Why did you pick the specific chart?"
      ],
      "metadata": {
        "id": "fge-S5ZAYoAp"
      }
    },
    {
      "cell_type": "markdown",
      "source": [
        "This Horizontal chart was chosen because it visually showcases viewer preferences based on IMDb votes, helping Amazon Prime identify:\n",
        "\n",
        "🔹 Top-performing shows that drive engagement.\n",
        "\n",
        "🔹 Genres and content themes that attract maximum viewership.\n",
        "\n",
        "🔹 Potential content gaps, guiding future investments in licensing or original productions."
      ],
      "metadata": {
        "id": "5dBItgRVYoAp"
      }
    },
    {
      "cell_type": "markdown",
      "source": [
        "##### 2. What is/are the insight(s) found from the chart?"
      ],
      "metadata": {
        "id": "85gYPyotYoAp"
      }
    },
    {
      "cell_type": "markdown",
      "source": [
        "\"Dexter\" is the Most Popular Show 🩸 – With the highest number of IMDb votes, \"Dexter\" leads the chart, indicating its massive fan following.\n",
        "\n",
        "Comedy Still Dominates 😂 – \"How I Met Your Mother\" securing second place highlights the strong appeal of sitcoms even years after their release.\n",
        "\n",
        "Historical & Crime Thrillers Are Fan Favorites ⚔️ – \"Vikings\" and \"Better Call Saul\" rank high, suggesting a strong audience interest in period dramas and crime narratives.\n",
        "\n",
        "Diverse Genres Keep Viewers Hooked 🎭 – From crime (\"Dexter\"), drama (\"House\"), and comedy (\"Community\") to sci-fi (\"Mr. Robot\") and horror (\"American Horror Story\"), Amazon Prime offers a well-balanced mix of content.\n",
        "\n",
        "Older Shows Still Hold Relevance ⏳ – Many shows on the list premiered years ago, proving that timeless storytelling continues to attract new viewers."
      ],
      "metadata": {
        "id": "4jstXR6OYoAp"
      }
    },
    {
      "cell_type": "markdown",
      "source": [
        "##### 3. Will the gained insights help creating a positive business impact?\n",
        "Are there any insights that lead to negative growth? Justify with specific reason."
      ],
      "metadata": {
        "id": "RoGjAbkUYoAp"
      }
    },
    {
      "cell_type": "markdown",
      "source": [
        "✅ Positive Growth:\n",
        "\n",
        "The insights highlight Amazon Prime’s strength in nostalgia-driven content, genre diversity, and high audience engagement. This can guide future investments in reviving classics, acquiring high-rated IMDb shows, and optimizing recommendations to retain viewers.\n",
        "\n",
        "⚠️ Potential Risk:\n",
        "\n",
        "A heavy reliance on older, established shows could stagnate growth if fresh, original content isn’t prioritized. The absence of new Prime-exclusive hits in the top 10 suggests a need for stronger in-house productions to stay competitive."
      ],
      "metadata": {
        "id": "zfJ8IqMcYoAp"
      }
    },
    {
      "cell_type": "markdown",
      "source": [
        "#### **Top 10 Production Countries**"
      ],
      "metadata": {
        "id": "4Of9eVA-YrdM"
      }
    },
    {
      "cell_type": "code",
      "source": [
        "from collections import Counter\n",
        "\n",
        "# Function to extract countries from a string\n",
        "def extract_countries(country_str):\n",
        "  if country_str is not np.nan:\n",
        "    return [country.strip() for country in country_str.split(',')]\n",
        "  return []\n",
        "\n",
        "# Extract countries and count occurrences\n",
        "all_countries = title_df['production_countries'].apply(extract_countries).sum()\n",
        "country_counts = Counter(all_countries)\n",
        "\n",
        "# Get top 10 countries\n",
        "top_10_countries = country_counts.most_common(10)\n",
        "\n",
        "# Convert to dataframe for plotting\n",
        "countries_df = pd.DataFrame(top_10_countries, columns=['Country', 'Count'])"
      ],
      "metadata": {
        "id": "apyXz0JSJ0bh"
      },
      "execution_count": null,
      "outputs": []
    },
    {
      "source": [
        "plt.figure(figsize=(12, 6))\n",
        "sns.barplot(y='Country', x='Count', data=countries_df, palette='viridis')\n",
        "plt.title('Top 10 Production Countries for Amazon Prime Content')\n",
        "plt.xlabel('Number of Titles')\n",
        "plt.ylabel('Country')\n",
        "plt.show()"
      ],
      "cell_type": "code",
      "metadata": {
        "id": "4KMhXsj0JjoA"
      },
      "execution_count": null,
      "outputs": []
    },
    {
      "cell_type": "markdown",
      "source": [
        "##### 1. Why did you pick the specific chart?"
      ],
      "metadata": {
        "id": "iky9q4vBYrdO"
      }
    },
    {
      "cell_type": "markdown",
      "source": [
        "This chart was chosen because it visually represents the top 10 production countries for Amazon Prime content, providing key insights into content distribution and market dominance.\n",
        "\n",
        "🔹 Clear Identification of Market Leaders – The chart highlights which countries contribute the most to Amazon Prime’s content library, helping understand where the platform's strongest presence is.\n",
        "\n",
        "🔹 Spotting Opportunities for Growth – By analyzing the disparity between content production across countries, we can identify underrepresented regions where Amazon Prime can expand its content strategy."
      ],
      "metadata": {
        "id": "aJRCwT6DYrdO"
      }
    },
    {
      "cell_type": "markdown",
      "source": [
        "##### 2. What is/are the insight(s) found from the chart?"
      ],
      "metadata": {
        "id": "F6T5p64dYrdO"
      }
    },
    {
      "cell_type": "markdown",
      "source": [
        "Key Insights from the Chart 📊\n",
        "\n",
        "1️⃣ US Leads the Production Race 🇺🇸 – The United States dominates Amazon Prime’s content library, contributing the highest number of titles.\n",
        "\n",
        "2️⃣ India & UK as Strong Contenders 🇮🇳🇬🇧 – India and the UK have significant contributions, highlighting a growing presence of regional content.\n",
        "\n",
        "3️⃣ Limited Representation from Other Regions 🌍 – Countries outside the top three have considerably fewer titles, indicating an opportunity for Amazon Prime to expand content diversity and attract a more global audience.\n"
      ],
      "metadata": {
        "id": "Xx8WAJvtYrdO"
      }
    },
    {
      "cell_type": "markdown",
      "source": [
        "##### 3. Will the gained insights help creating a positive business impact?\n",
        "Are there any insights that lead to negative growth? Justify with specific reason."
      ],
      "metadata": {
        "id": "y-Ehk30pYrdP"
      }
    },
    {
      "cell_type": "markdown",
      "source": [
        "🚀 **Business Impact of Insights from the Chart**\n",
        "\n",
        "\n",
        "✅ Positive Business Impact:\n",
        "\n",
        "The insights gained will help Amazon Prime make data-driven decisions in content acquisition and production.\n",
        "\n",
        "Strengthening Market Position: The dominance of US content suggests Amazon Prime’s stronghold in the American market, allowing strategic partnerships with leading studios.\n",
        "\n",
        "Emerging Market Opportunities: The growing contribution from India (IN) and the UK (GB) presents an opportunity to expand localized content and increase international subscriber engagement.\n",
        "\n",
        "Content Diversification: By identifying underrepresented markets, Amazon Prime can invest in regional content to attract diverse audiences.\n",
        "\n",
        "\n",
        "\n",
        "---\n",
        "\n",
        "\n",
        "\n",
        "❌ Insights That May Lead to Negative Growth:\n",
        "\n",
        "Over-Reliance on US Content: A strong dependence on US productions could alienate international audiences, leading to lower engagement in non-US regions.\n",
        "\n",
        "Data Inconsistencies: The presence of duplicate country labels (e.g., multiple variations of \"US\" and \"CA\") and an empty category suggests data quality issues, which could affect strategic decision-making.\n",
        "\n",
        "Limited Global Appeal: If Amazon Prime does not expand its regional content, competitors like Netflix or Disney+ could capture more market share in diverse regions.\n",
        "\n"
      ],
      "metadata": {
        "id": "aJ9Elered_fx"
      }
    },
    {
      "cell_type": "markdown",
      "source": [
        "**Released per year of Movies and TV Shows**"
      ],
      "metadata": {
        "id": "jLNxxz7MYrdP"
      }
    },
    {
      "cell_type": "code",
      "source": [
        "yearly_releases = title_df.groupby(['release_year', 'type'])['id'].count().reset_index(name='count')\n",
        "\n",
        "\n",
        "plt.figure(figsize=(12, 6))\n",
        "sns.lineplot(x='release_year', y='count', hue='type', data=yearly_releases)\n",
        "plt.title('Number of Movies and TV Shows Released per Year')\n",
        "plt.xlabel('Release Year')\n",
        "plt.ylabel('Number of Releases')\n",
        "plt.show()\n"
      ],
      "metadata": {
        "id": "bJa_xLmMKD_Z"
      },
      "execution_count": null,
      "outputs": []
    },
    {
      "cell_type": "markdown",
      "source": [
        "#### **Duration of Movies and TV Shows**"
      ],
      "metadata": {
        "id": "bamQiAODYuh1"
      }
    },
    {
      "cell_type": "code",
      "source": [
        "\n",
        "# Create the box plot\n",
        "plt.figure(figsize=(10, 6))\n",
        "sns.boxplot(x='type', y='runtime', data=title_df)\n",
        "plt.title('Comparing Duration of Movies and TV Shows')\n",
        "plt.xlabel('Content Type')\n",
        "plt.ylabel('Runtime (minutes)')\n",
        "plt.show()"
      ],
      "metadata": {
        "id": "Zl_wePOw846W"
      },
      "execution_count": null,
      "outputs": []
    },
    {
      "cell_type": "markdown",
      "source": [
        "##### 1. Why did you pick the specific chart?"
      ],
      "metadata": {
        "id": "QHF8YVU7Yuh3"
      }
    },
    {
      "cell_type": "markdown",
      "source": [
        "I chose this boxplot because it is the best way to compare the distribution and variability of movie and TV show durations on Amazon Prime. Here’s why it was the ideal choice:\n",
        "\n",
        "🔹 Clear Comparison – The chart shows how the median, interquartile range (IQR), and outliers differ between movies and TV shows.\n",
        "\n",
        "🔹 Highlights Outliers – It visually represents unusually long movies and special/long TV show episodes, which could be useful insights for content planning.\n",
        "\n",
        "🔹 User Engagement Insights – Helps Amazon Prime understand whether longer movies or shorter content are more common and how they can optimize content for user preferences."
      ],
      "metadata": {
        "id": "dcxuIMRPYuh3"
      }
    },
    {
      "cell_type": "markdown",
      "source": [
        "##### 2. What is/are the insight(s) found from the chart?"
      ],
      "metadata": {
        "id": "GwzvFGzlYuh3"
      }
    },
    {
      "cell_type": "markdown",
      "source": [
        "This boxplot compares the duration of Movies and TV Shows on Amazon Prime. Key takeaways:\n",
        "\n",
        "🔹 Movies are generally longer than TV shows, with a median runtime around 90–100 minutes, while TV shows typically range around 30–40 minutes per episode.\n",
        "\n",
        "🔹 Greater Variability in Movie Lengths – Movies have a wider spread with many outliers, some exceeding 300 minutes, showing a mix of short films and long-form content.\n",
        "\n",
        "🔹 TV Shows have a more consistent duration, with most episodes clustered under 50 minutes but still containing some outliers reaching up to 150 minutes, possibly indicating special episodes or mini-series."
      ],
      "metadata": {
        "id": "uyqkiB8YYuh3"
      }
    },
    {
      "cell_type": "markdown",
      "source": [
        "##### 3. Will the gained insights help creating a positive business impact?\n",
        "Are there any insights that lead to negative growth? Justify with specific reason."
      ],
      "metadata": {
        "id": "qYpmQ266Yuh3"
      }
    },
    {
      "cell_type": "markdown",
      "source": [
        "✅ Positive Impact – Insights help Amazon Prime optimize content recommendations, ensuring users get content suited to their viewing habits (e.g., shorter content for casual watchers, longer ones for dedicated movie buffs).\n",
        "\n",
        "⚠️ Negative Growth Potential – If movies are too long, they might deter audiences preferring bite-sized content, leading to higher drop-off rates. Amazon Prime can balance the content library by introducing more short films or engaging series to maintain user retention.\n",
        "\n"
      ],
      "metadata": {
        "id": "_WtzZ_hCYuh4"
      }
    },
    {
      "cell_type": "markdown",
      "source": [
        "#### Chart - 6 - Genre Distribution based of No of Movies and TV Shows"
      ],
      "metadata": {
        "id": "OH-pJp9IphqM"
      }
    },
    {
      "cell_type": "code",
      "source": [
        "title_df[\"genres\"] = title_df[\"genres\"].apply(lambda x: re.findall(\"\\w+\", x))\n",
        "\n",
        "genres = list(title_df[\"genres\"].values)\n",
        "genres = list(set([item for sublist in genres for item in sublist]))\n",
        "\n",
        "for i, genre in enumerate(genres):\n",
        "    title_df[genre] = title_df.genres.apply(lambda x: 1 if genre in x else 0).astype(int)\n",
        "\n",
        "print(\"Number of Genres: \", len(genres))\n",
        "print(\"Genres:\", genres)"
      ],
      "metadata": {
        "id": "ZC8f99ST8RPB"
      },
      "execution_count": null,
      "outputs": []
    },
    {
      "cell_type": "code",
      "source": [
        "genre_movie_dict = {}\n",
        "\n",
        "for genre in genres:\n",
        "    genre_movie_dict[genre] = title_df.query(\"type == 'MOVIE'\")[genre].sum()\n",
        "\n",
        "genre_movie_dict = dict(sorted(genre_movie_dict.items(), key=lambda x: x[0]))\n",
        "\n",
        "genre_series_dict = {}\n",
        "\n",
        "for genre in genres:\n",
        "    genre_series_dict[genre] = title_df.query(\"type == 'SHOW'\")[genre].sum()\n",
        "\n",
        "genre_series_dict = dict(sorted(genre_series_dict.items(), key=lambda x: x[0]))\n",
        "\n",
        "fig = sp.make_subplots(\n",
        "    rows=2,\n",
        "    cols=1,\n",
        "    subplot_titles=[\"Movies\", \"Series\"],\n",
        ")\n",
        "\n",
        "genre_movie_count = go.Bar(\n",
        "    x=list(genre_movie_dict.keys()),\n",
        "    y=list(genre_movie_dict.values()),\n",
        "    marker=dict(color=list(genre_movie_dict.values()),\n",
        "                colorscale=px.colors.qualitative.Dark2),\n",
        "    name=\"Movies\",\n",
        ")\n",
        "\n",
        "genre_series_count = go.Bar(\n",
        "    x=list(genre_series_dict.keys()),\n",
        "    y=list(genre_series_dict.values()),\n",
        "    marker=dict(color=list(genre_series_dict.values()),\n",
        "                colorscale=px.colors.qualitative.Dark2),\n",
        "    name=\"Series\",\n",
        ")\n",
        "\n",
        "fig.add_trace(genre_movie_count, row=1, col=1)\n",
        "fig.update_xaxes(title_text=\"Genres\", row=1, col=1)\n",
        "fig.update_yaxes(title_text=\"Count\", row=1, col=1)\n",
        "\n",
        "fig.add_trace(genre_series_count, row=2, col=1)\n",
        "fig.update_xaxes(title_text=\"Genres\", row=2, col=1)\n",
        "fig.update_yaxes(title_text=\"Count\", row=2, col=1)\n",
        "\n",
        "fig.update(\n",
        "    layout_title_text=\"Genre Distribution based on No. of Movies and Shows\",\n",
        "    layout_title_font_size=30,\n",
        "    layout_title_x=0.5,\n",
        "    layout_template=\"plotly\",\n",
        "    layout_showlegend=False,\n",
        "    layout_height=800,\n",
        "    layout_paper_bgcolor='rgb(239, 247, 267)',\n",
        "    layout_plot_bgcolor='rgb(239, 247, 267)',\n",
        ")\n",
        "\n",
        "fig.update_annotations(font_size=18)\n",
        "\n",
        "fig.show()"
      ],
      "metadata": {
        "id": "kuRf4wtuphqN"
      },
      "execution_count": null,
      "outputs": []
    },
    {
      "cell_type": "markdown",
      "source": [
        "##### 1. Why did you pick the specific chart?"
      ],
      "metadata": {
        "id": "bbFf2-_FphqN"
      }
    },
    {
      "cell_type": "markdown",
      "source": [
        "This genre distribution chart was chosen because it provides a clear comparative analysis of the number of movies and TV shows available across\n",
        "different genres on Amazon Prime.\n",
        "\n",
        "Here’s why it’s valuable:\n",
        "\n",
        "🔹 Genre Popularity Insight – Helps understand which genres dominate Amazon Prime’s content library. For instance, Drama, Comedy, and Thriller seem to be leading categories for movies, while Comedy and Drama are dominant in TV shows.\n",
        "\n",
        "🔹 Strategic Content Decisions – By analyzing underrepresented genres (e.g., animation, war, or sports), Amazon Prime can decide whether to expand its offerings in these areas to attract a more diverse audience.\n",
        "\n",
        "🔹 Viewer Preference Alignment – This helps in aligning content recommendations and marketing strategies based on popular genres."
      ],
      "metadata": {
        "id": "loh7H2nzphqN"
      }
    },
    {
      "cell_type": "markdown",
      "source": [
        "##### 2. What is/are the insight(s) found from the chart?"
      ],
      "metadata": {
        "id": "_ouA3fa0phqN"
      }
    },
    {
      "cell_type": "markdown",
      "source": [
        "1️⃣ Drama is King 👑\n",
        "\n",
        "Drama dominates both movies and TV shows, suggesting that viewers on Amazon Prime prefer deep storytelling and character-driven narratives.\n",
        "This indicates that investing in high-quality drama productions could further enhance engagement.\n",
        "\n",
        "2️⃣ Comedy & Thriller Are Key Players 🎭🔪\n",
        "\n",
        "Comedy is a strong genre in both movies and TV shows, showing that light-hearted content is a major attraction for subscribers.\n",
        "Thrillers have a high presence in movies, meaning there’s a strong demand for suspenseful and intense storytelling.\n",
        "\n",
        "3️⃣ Low Representation of Certain Genres 🧐\n",
        "\n",
        "Genres like war, sports, and animation have very few titles in both movies and TV shows.\n",
        "If there is demand for these genres, Amazon Prime can increase content acquisition or production in these areas to attract niche audiences."
      ],
      "metadata": {
        "id": "VECbqPI7phqN"
      }
    },
    {
      "cell_type": "markdown",
      "source": [
        "##### 3. Will the gained insights help creating a positive business impact?\n",
        "Are there any insights that lead to negative growth? Justify with specific reason."
      ],
      "metadata": {
        "id": "Seke61FWphqN"
      }
    },
    {
      "cell_type": "markdown",
      "source": [
        "🚀 Business Impact of Insights\n",
        "\n",
        "✅ Positive Impact:\n",
        "The insights help Amazon Prime focus on high-demand genres like Drama, Comedy, and Thriller, ensuring higher engagement and retention. Expanding underrepresented genres (like Sports and Animation) can attract niche audiences, boosting subscriptions.\n",
        "\n",
        "⚠ Potential Negative Growth:\n",
        "Over-reliance on Drama & Thriller may create content fatigue, making the platform feel repetitive. Lack of investment in emerging genres could alienate audiences looking for fresh content. A diversified content strategy is key to sustained growth.\n",
        "\n",
        "🎯 Solution: Balance mainstream hits with experimental content to stay ahead of the competition! 🚀\n",
        "\n",
        "\n",
        "\n",
        "\n",
        "\n",
        "\n",
        "\n"
      ],
      "metadata": {
        "id": "DW4_bGpfphqN"
      }
    },
    {
      "cell_type": "markdown",
      "source": [
        "#### Chart - 7 - Genre Distribution based on IMDB Votes"
      ],
      "metadata": {
        "id": "PIIx-8_IphqN"
      }
    },
    {
      "cell_type": "code",
      "source": [
        "genre_movies_popularity_dict = {}\n",
        "\n",
        "for i, genre in enumerate(genres):\n",
        "    genre_movies_popularity_dict[genre] = title_df.query(\"type == 'MOVIE'\").groupby(genre)[\"imdb_votes\"].sum().sort_index().__getitem__(1)\n",
        "\n",
        "genre_movies_popularity_dict = dict(sorted(genre_movies_popularity_dict.items(), key=lambda x: x[0]))\n",
        "\n",
        "genre_series_popularity_dict = {}\n",
        "\n",
        "for i, genre in enumerate(genres):\n",
        "    genre_series_popularity_dict[genre] = title_df.query(\"type == 'SHOW'\").groupby(genre)[\"imdb_votes\"].sum().sort_index().__getitem__(1)\n",
        "\n",
        "genre_series_popularity_dict = dict(sorted(genre_series_popularity_dict.items(), key=lambda x: x[0]))\n",
        "\n",
        "fig = sp.make_subplots(\n",
        "    rows=2,\n",
        "    cols=1,\n",
        "    subplot_titles=[\"Movies\", \"Series\"],\n",
        ")\n",
        "\n",
        "genre_movies_pop = go.Bar(\n",
        "    x=list(genre_movies_popularity_dict.keys()),\n",
        "    y=list(genre_movies_popularity_dict.values()),\n",
        "    marker=dict(color=list(genre_movies_popularity_dict.values()),\n",
        "                colorscale=px.colors.qualitative.Dark2),\n",
        "    hoverinfo=\"x+y\",\n",
        ")\n",
        "\n",
        "genre_series_pop = go.Bar(\n",
        "    x=list(genre_series_popularity_dict.keys()),\n",
        "    y=list(genre_series_popularity_dict.values()),\n",
        "    marker=dict(color=list(genre_series_popularity_dict.values()),\n",
        "                colorscale=px.colors.qualitative.Dark2),\n",
        "    hoverinfo=\"x+y\",\n",
        ")\n",
        "\n",
        "fig.add_trace(genre_movies_pop, row=1, col=1)\n",
        "fig.update_xaxes(title_text=\"Genre\", row=1, col=1)\n",
        "fig.update_yaxes(title_text=\"IMDB Votes\", row=1, col=1)\n",
        "fig.update\n",
        "\n",
        "fig.add_trace(genre_series_pop, row=2, col=1)\n",
        "fig.update_xaxes(title_text=\"Genre\", row=2, col=1)\n",
        "fig.update_yaxes(title_text=\"IMDB Votes\", row=2, col=1)\n",
        "\n",
        "fig.update(\n",
        "    layout_title_text=\"Genre Distribution based on IMDB Votes\",\n",
        "    layout_title_font_size=30,\n",
        "    layout_title_x=0.5,\n",
        "    layout_template=\"plotly\",\n",
        "    layout_showlegend=False,\n",
        "    layout_height=800,\n",
        "    layout_paper_bgcolor='rgb(239, 247, 267)',\n",
        "    layout_plot_bgcolor='rgb(239, 247, 267)',\n",
        ")\n",
        "\n",
        "fig.update_annotations(font_size=18)\n",
        "\n",
        "fig.show()\n"
      ],
      "metadata": {
        "id": "lqAIGUfyphqO"
      },
      "execution_count": null,
      "outputs": []
    },
    {
      "cell_type": "markdown",
      "source": [
        "##### 1. Why did you pick the specific chart?"
      ],
      "metadata": {
        "id": "t27r6nlMphqO"
      }
    },
    {
      "cell_type": "markdown",
      "source": [
        "I picked this specific genre distribution chart because:\n",
        "\n",
        "1️⃣ Clear Business Insights – It visually highlights which genres attract the most IMDB votes for both movies and series, helping businesses understand audience preferences.\n",
        "\n",
        "2️⃣ Comparative Analysis – The dual representation (movies vs. series) allows for an easy comparison of viewer interest, enabling strategic content investment.\n",
        "\n",
        "3️⃣ Actionable Decision-Making – The data can guide content creators, streaming platforms, or production houses in choosing genres that maximize engagement and revenue."
      ],
      "metadata": {
        "id": "iv6ro40sphqO"
      }
    },
    {
      "cell_type": "markdown",
      "source": [
        "##### 2. What is/are the insight(s) found from the chart?"
      ],
      "metadata": {
        "id": "r2jJGEOYphqO"
      }
    },
    {
      "cell_type": "markdown",
      "source": [
        "\n",
        "Drama Dominates 🎭 :\n",
        "\n",
        "Both movies and series see the highest engagement in the drama genre.\n",
        "Businesses can prioritize drama-based content for maximum audience reach.\n",
        "\n",
        "\n",
        "Action & Thriller are Popular 🔥 :\n",
        "\n",
        "Action, thriller, and comedy genres receive significant votes, showing strong audience demand.\n",
        "Streaming platforms should focus on these genres for high engagement.\n",
        "\n",
        "\n",
        "Animation & Documentary Lag Behind 🎬 :\n",
        "\n",
        "These genres have fewer votes, indicating lower mainstream popularity.\n",
        "Marketing efforts or niche audience targeting might be needed for growth."
      ],
      "metadata": {
        "id": "Po6ZPi4hphqO"
      }
    },
    {
      "cell_type": "markdown",
      "source": [
        "##### 3. Will the gained insights help creating a positive business impact?\n",
        "Are there any insights that lead to negative growth? Justify with specific reason."
      ],
      "metadata": {
        "id": "b0JNsNcRphqO"
      }
    },
    {
      "cell_type": "markdown",
      "source": [
        "✅ Positive Business Impact\n",
        "\n",
        "Prioritizing Drama, Action, and Thriller: These genres receive the highest engagement, indicating strong audience demand. Investing in these will likely boost viewership and revenue.\n",
        "\n",
        "Strategic Content Planning: Knowing which genres perform well helps businesses allocate resources efficiently, reducing financial risks.\n",
        "\n",
        "Enhanced Customer Satisfaction: Creating more content in popular genres ensures higher viewer retention and platform loyalty.\n",
        "\n",
        "\n",
        "\n",
        "⚠️ Potential Negative Growth Areas :\n",
        "\n",
        "Neglecting Low-Performing Genres: Ignoring genres like animation or documentary may alienate niche audiences who value diverse content.\n",
        "\n",
        "Oversaturation of Popular Genres: Overloading drama, action, and thriller content without variety might lead to audience fatigue and decreased engagement over time.\n",
        "\n",
        "Risk of Missing Emerging Trends: While current trends favor drama and action, failing to explore new or rising genres could limit long-term growth."
      ],
      "metadata": {
        "id": "xvSq8iUTphqO"
      }
    },
    {
      "cell_type": "markdown",
      "source": [
        "#### Chart - 8 - IMDB Rating vs TMDB Score"
      ],
      "metadata": {
        "id": "BZR9WyysphqO"
      }
    },
    {
      "cell_type": "code",
      "source": [
        "# Chart - 5 visualization code\n",
        "plt.figure(figsize=(12,5))\n",
        "sns.scatterplot(data=title_df, x='release_year', y='imdb_score', alpha=0.5)\n",
        "plt.title('IMDb Score vs. Release Year')\n",
        "plt.show()"
      ],
      "metadata": {
        "id": "TdPTWpAVphqO"
      },
      "execution_count": null,
      "outputs": []
    },
    {
      "cell_type": "code",
      "source": [
        "\n",
        "# Assuming your dataframe is named 'title_df' and contains 'imdb_score' and 'tmdb_score' columns\n",
        "plt.figure(figsize=(10, 6))  # Adjust figure size if needed\n",
        "sns.scatterplot(x='imdb_score', y='tmdb_score', data=title_df)\n",
        "plt.title('IMDb Rating vs. TMDB Score')\n",
        "plt.xlabel('IMDb Rating')\n",
        "plt.ylabel('TMDB Score')\n",
        "plt.show()"
      ],
      "metadata": {
        "id": "s7apVJlnL0L6"
      },
      "execution_count": null,
      "outputs": []
    },
    {
      "cell_type": "markdown",
      "source": [
        "##### 1. Why did you pick the specific chart?"
      ],
      "metadata": {
        "id": "jj7wYXLtphqO"
      }
    },
    {
      "cell_type": "markdown",
      "source": [
        "This scatter plot was chosen because it effectively visualizes the relationship between IMDb ratings and TMDB scores. It helps identify patterns, such as whether there is a positive correlation between the two rating systems or if there are significant deviations. By using this plot, one can assess how closely the two rating platforms align and detect any anomalies or trends in audience perception across platforms."
      ],
      "metadata": {
        "id": "Ob8u6rCTphqO"
      }
    },
    {
      "cell_type": "markdown",
      "source": [
        "##### 2. What is/are the insight(s) found from the chart?"
      ],
      "metadata": {
        "id": "eZrbJ2SmphqO"
      }
    },
    {
      "cell_type": "markdown",
      "source": [
        "The scatter plot provides the following insights:\n",
        "\n",
        "Positive Correlation – There is a general upward trend, suggesting that movies with high IMDb ratings tend to have high TMDB scores, indicating consistency in audience perception across platforms.\n",
        "\n",
        "Variance in Scores – While many points align closely along an increasing trend, there are several outliers where a movie has a high IMDb rating but a significantly lower TMDB score (or vice versa). This could indicate differences in audience demographics or rating criteria between the platforms.\n",
        "\n",
        "Clustered Distribution – The majority of the data points are concentrated between IMDb ratings of 4 to 8 and TMDB scores of 4 to 8, suggesting that most movies fall within this moderate-to-high rating range."
      ],
      "metadata": {
        "id": "mZtgC_hjphqO"
      }
    },
    {
      "cell_type": "markdown",
      "source": [
        "##### 3. Will the gained insights help creating a positive business impact?\n",
        "Are there any insights that lead to negative growth? Justify with specific reason."
      ],
      "metadata": {
        "id": "rFu4xreNphqO"
      }
    },
    {
      "cell_type": "markdown",
      "source": [
        "Positive Business Impact :\n",
        "\n",
        "Yes! The insights can help businesses make data-driven decisions. The strong correlation between IMDb and TMDB scores indicates that audience preferences are fairly consistent across platforms. This means studios can confidently use IMDb ratings as a benchmark for predicting audience reception on other platforms, optimizing marketing efforts, and selecting movies for streaming services.\n",
        "\n",
        "Negative Growth Potential :\n",
        "\n",
        "A key concern is the rating inconsistencies and outliers. If a movie has a high IMDb rating but a low TMDB score, it may indicate biased reviews, platform-specific audience preferences, or manipulated ratings. This could mislead businesses into making poor content acquisition decisions, leading to lower engagement and potential financial losses."
      ],
      "metadata": {
        "id": "ey_0qi68phqO"
      }
    },
    {
      "cell_type": "markdown",
      "source": [
        "#### Chart - 9 - Top 10 Directors"
      ],
      "metadata": {
        "id": "YJ55k-q6phqO"
      }
    },
    {
      "cell_type": "code",
      "source": [
        "# Chart - 9 visualization code\n",
        "top_directors = credit_df['name'].value_counts().nlargest(10)\n",
        "plt.figure(figsize=(10,5))\n",
        "sns.barplot(x=top_directors.values, y=top_directors.index, palette='coolwarm')\n",
        "plt.title('Top 10 Directors with Most Content')\n",
        "plt.xlabel('Number of Shows/Movies')\n",
        "plt.show()"
      ],
      "metadata": {
        "id": "B2aS4O1ophqO"
      },
      "execution_count": null,
      "outputs": []
    },
    {
      "cell_type": "code",
      "source": [
        "merged_df = pd.merge(credit_df, title_df, on='id')\n",
        "actors_ratings = merged_df[merged_df['role'] == 'ACTOR'].groupby('name')['imdb_score'].mean().sort_values(ascending=False)\n",
        "\n",
        "top_10_actors = actors_ratings.head(10)\n",
        "plt.figure(figsize=(12, 6))\n",
        "sns.barplot(x=top_10_actors.index, y=top_10_actors.values, palette='viridis')\n",
        "plt.title('Top 10 Actors with Highest Average IMDb Ratings')\n",
        "plt.xlabel('Actor')\n",
        "plt.ylabel('Average IMDb Rating')\n",
        "plt.xticks(rotation=45, ha='right')  # Rotate x-axis labels for better readability\n",
        "plt.tight_layout()\n",
        "plt.show()"
      ],
      "metadata": {
        "id": "zgJUwEhnGqDK"
      },
      "execution_count": null,
      "outputs": []
    },
    {
      "cell_type": "markdown",
      "source": [
        "##### 1. Why did you pick the specific chart?"
      ],
      "metadata": {
        "id": "gCFgpxoyphqP"
      }
    },
    {
      "cell_type": "markdown",
      "source": [
        "The specific chart was chosen because it visually represents the top 10 actors with the highest IMDb ratings, making it easy to identify which actors consistently receive high audience appreciation. The bar chart format effectively communicates comparisons between different actors, ensuring quick interpretation of the data."
      ],
      "metadata": {
        "id": "TVxDimi2phqP"
      }
    },
    {
      "cell_type": "markdown",
      "source": [
        "##### 2. What is/are the insight(s) found from the chart?"
      ],
      "metadata": {
        "id": "OVtJsKN_phqQ"
      }
    },
    {
      "cell_type": "markdown",
      "source": [
        "The top 10 actors in terms of IMDb ratings all have exceptionally high scores\n",
        "\n",
        "1.   The top 10 actors in terms of IMDb ratings all have exceptionally high scores (~10).\n",
        "2.   This suggests that their work is highly appreciated by audiences, indicating strong fan bases or participation in critically acclaimed films.\n",
        "3.   The data may indicate a bias in rating distribution (e.g., limited number of reviews or niche audience influence).\n",
        "\n"
      ],
      "metadata": {
        "id": "ngGi97qjphqQ"
      }
    },
    {
      "cell_type": "markdown",
      "source": [
        "##### 3. Will the gained insights help creating a positive business impact?\n",
        "Are there any insights that lead to negative growth? Justify with specific reason."
      ],
      "metadata": {
        "id": "lssrdh5qphqQ"
      }
    },
    {
      "cell_type": "markdown",
      "source": [
        "**Positive Business Impact:**\n",
        "\n",
        "Strategic Casting Decisions: Since these actors have consistently high IMDb ratings, producers and streaming platforms can leverage their popularity to attract more viewers.\n",
        "\n",
        "Marketing & Promotions: Using these actors in promotional campaigns can drive engagement and subscriptions.\n",
        "\n",
        "Content Curation: Platforms like Netflix, Amazon Prime, and Hotstar can recommend movies featuring these actors to increase watch time and user retention.\n",
        "\n",
        "**Potential Negative Growth Impact:**\n",
        "\n",
        "Rating Bias & Skewed Perception: If these high ratings are due to limited audience reach or fan-driven bias, over-reliance on them can mislead business decisions (e.g., investing in an actor who lacks broad appeal).\n",
        "\n",
        "Limited Diversity in Casting: Focusing only on a select few actors may reduce opportunities for emerging talent, leading to stagnation in content variety and innovation."
      ],
      "metadata": {
        "id": "tBpY5ekJphqQ"
      }
    },
    {
      "cell_type": "markdown",
      "source": [
        "#### Chart - 10 - IMDB Score Distribution by Genre"
      ],
      "metadata": {
        "id": "U2RJ9gkRphqQ"
      }
    },
    {
      "cell_type": "code",
      "source": [
        "fig = ff.create_distplot(\n",
        "    [title_df[(title_df[genre] == 1) & (title_df['imdb_score'].notna())]['imdb_score'] for genre in sorted(genres)],\n",
        "    sorted(genres),\n",
        "    show_hist=False,\n",
        "    show_rug=False,\n",
        ")\n",
        "\n",
        "fig.update_layout(\n",
        "    title=\"IMDB Score Distribution by Genre\",\n",
        "    title_font_size=30,\n",
        "    title_x=0.5,\n",
        "    xaxis_title=\"IMDB Score\",\n",
        "    template=\"plotly\",\n",
        "    paper_bgcolor='rgb(229, 247, 267)',\n",
        "    plot_bgcolor='rgb(229, 247, 267)',\n",
        "    legend_title=\"Genre\",\n",
        ")\n",
        "\n",
        "fig.show()\n"
      ],
      "metadata": {
        "id": "GM7a4YP4phqQ"
      },
      "execution_count": null,
      "outputs": []
    },
    {
      "cell_type": "markdown",
      "source": [
        "##### 1. Why did you pick the specific chart?"
      ],
      "metadata": {
        "id": "1M8mcRywphqQ"
      }
    },
    {
      "cell_type": "markdown",
      "source": [
        "This chart, a density plot, was chosen because it effectively visualizes the IMDB score distribution across different genres. Here’s why it’s useful:\n",
        "\n",
        "✅ Comparison Across Genres – It allows us to see which genres tend to have higher or lower IMDB scores.\n",
        "\n",
        "✅ Trends & Patterns – The peaks of each curve indicate the most common ratings for that genre.\n",
        "\n",
        "✅ Strategic Insights – It helps identify high-performing genres (e.g., those centered around higher IMDB scores) versus those that struggle with lower ratings"
      ],
      "metadata": {
        "id": "8agQvks0phqQ"
      }
    },
    {
      "cell_type": "markdown",
      "source": [
        "##### 2. What is/are the insight(s) found from the chart?"
      ],
      "metadata": {
        "id": "tgIPom80phqQ"
      }
    },
    {
      "cell_type": "markdown",
      "source": [
        "The chart reveals that documentaries, history, and drama tend to have higher IMDb scores, while reality TV and horror have lower scores on average. It also shows that most genres cluster around a 5-7 rating, with some outliers in both directions. This insight can help streaming platforms prioritize high-rated genres for better audience engagement."
      ],
      "metadata": {
        "id": "Qp13pnNzphqQ"
      }
    },
    {
      "cell_type": "markdown",
      "source": [
        "##### 3. Will the gained insights help creating a positive business impact?\n",
        "Are there any insights that lead to negative growth? Justify with specific reason."
      ],
      "metadata": {
        "id": "JMzcOPDDphqR"
      }
    },
    {
      "cell_type": "markdown",
      "source": [
        "Yes, the insights can create a positive business impact by helping streaming platforms prioritize high-rated genres like documentaries, history, and drama to attract quality-focused audiences and boost subscriptions.\n",
        "\n",
        "However, insights showing low ratings for reality TV and horror could indicate negative growth potential if these genres dominate the content library. If viewers associate the platform with lower-rated content, it may reduce user retention and brand value. Balancing content strategy by investing in both popular and high-rated genres is key to long-term success."
      ],
      "metadata": {
        "id": "R4Ka1PC2phqR"
      }
    },
    {
      "cell_type": "markdown",
      "source": [
        "#### Chart 11 - Age Certification Distribution"
      ],
      "metadata": {
        "id": "x-EpHcCOp1ci"
      }
    },
    {
      "cell_type": "code",
      "source": [
        "# Assuming your dataframe is named 'title_df' and contains an 'age_certification' column\n",
        "age_certification_counts = title_df['age_certification'].value_counts()\n",
        "plt.figure(figsize=(10, 6))  # Adjust figure size if needed\n",
        "sns.barplot(x=age_certification_counts.index, y=age_certification_counts.values, palette='viridis')\n",
        "plt.title('Age Certification Distribution on Amazon Prime')\n",
        "plt.xlabel('Age Certification')\n",
        "plt.ylabel('Number of Titles')\n",
        "plt.xticks(rotation=45, ha='right')  # Rotate x-axis labels for better readability\n",
        "plt.tight_layout()\n",
        "plt.show()\n",
        "\n"
      ],
      "metadata": {
        "id": "7jZmi21BBQGs"
      },
      "execution_count": null,
      "outputs": []
    },
    {
      "cell_type": "markdown",
      "source": [
        "##### 1. Why did you pick the specific chart?"
      ],
      "metadata": {
        "id": "X_VqEhTip1ck"
      }
    },
    {
      "cell_type": "markdown",
      "source": [
        "I picked this bar chart because it effectively visualizes the distribution of titles by age certification on Amazon Prime. Here’s why it’s the best choice:\n",
        "\n",
        "✅ Clear Comparison – The bar chart allows for an easy comparison of content availability across different age categories.\n",
        "\n",
        "✅ Highlighting Imbalances – The dominance of \"Unknown\" and \"R\" rated content becomes immediately noticeable.\n",
        "\n",
        "✅ Actionable Insights – The stark contrast between mature and family-friendly content suggests areas for improvement, helping in strategic decision-making."
      ],
      "metadata": {
        "id": "-vsMzt_np1ck"
      }
    },
    {
      "cell_type": "markdown",
      "source": [
        "##### 2. What is/are the insight(s) found from the chart?"
      ],
      "metadata": {
        "id": "8zGJKyg5p1ck"
      }
    },
    {
      "cell_type": "markdown",
      "source": [
        "Insights from the Chart\n",
        "\n",
        "High ‘Unknown’ Category 🚨 :\n",
        "A massive number of titles have an \"Unknown\" age certification, making it difficult for users to filter content based on age appropriateness.\n",
        "\n",
        "Dominance of ‘R’ Rated Content 🎬 :\n",
        "Amazon Prime has a strong presence of R-rated movies, indicating a focus on mature audiences.\n",
        "\n",
        "Limited Family & Kid-Friendly Content 👨‍👩‍👧‍👦:\n",
        "Categories like G, TV-Y, TV-G, and TV-PG have significantly fewer titles, suggesting a lack of content for younger audiences."
      ],
      "metadata": {
        "id": "ZYdMsrqVp1ck"
      }
    },
    {
      "cell_type": "markdown",
      "source": [
        "##### 3. Will the gained insights help creating a positive business impact?\n",
        "Are there any insights that lead to negative growth? Justify with specific reason."
      ],
      "metadata": {
        "id": "PVzmfK_Ep1ck"
      }
    },
    {
      "cell_type": "markdown",
      "source": [
        "Impact on Business\n",
        "\n",
        "✅ Positive Impact – Strong R-rated content can attract a mature audience, boosting engagement for thrillers, dramas, and action movies.\n",
        "\n",
        "❌ Negative Impact – A lack of age certification for many titles may reduce user trust and make parental control ineffective, leading to churn among family users.\n",
        "\n",
        "💡 Solution – Improving metadata accuracy and expanding kid-friendly content can enhance inclusivity and increase subscriber retention. 🚀"
      ],
      "metadata": {
        "id": "druuKYZpp1ck"
      }
    },
    {
      "cell_type": "markdown",
      "source": [
        "#### Chart - 12 - IMDB Scores by Age Certifications"
      ],
      "metadata": {
        "id": "n3dbpmDWp1ck"
      }
    },
    {
      "cell_type": "code",
      "source": [
        "plt.figure(figsize=(12, 6))  # Adjust figure size if needed\n",
        "sns.boxplot(x='age_certification', y='imdb_score', data=title_df, palette='viridis')\n",
        "plt.title('IMDb Scores by Age Certification')\n",
        "plt.xlabel('Age Certification')\n",
        "plt.ylabel('IMDb Score')\n",
        "plt.xticks(rotation=45, ha='right')  # Rotate x-axis labels for better readability\n",
        "plt.tight_layout()\n",
        "plt.show()"
      ],
      "metadata": {
        "id": "1OyYw-AXDh_s"
      },
      "execution_count": null,
      "outputs": []
    },
    {
      "cell_type": "markdown",
      "source": [
        "##### 1. Why did you pick the specific chart?"
      ],
      "metadata": {
        "id": "ylSl6qgtp1ck"
      }
    },
    {
      "cell_type": "markdown",
      "source": [
        "I chose a box plot because it provides a comprehensive view of IMDb score distribution across different age certifications.\n",
        "\n",
        "Why this chart?\n",
        "\n",
        "✅ Clear Comparison – It effectively highlights which age categories tend to have higher or lower ratings.\n",
        "\n",
        "✅ Outlier Detection – The box plot reveals extreme values (low-rated movies in ‘Unknown’ and ‘NC-17’ categories), helping identify content that may require quality control."
      ],
      "metadata": {
        "id": "m2xqNkiQp1ck"
      }
    },
    {
      "cell_type": "markdown",
      "source": [
        "##### 2. What is/are the insight(s) found from the chart?"
      ],
      "metadata": {
        "id": "ZWILFDl5p1ck"
      }
    },
    {
      "cell_type": "markdown",
      "source": [
        "📊 Key Insights from the Chart:\n",
        "\n",
        "TV-MA and TV-PG Perform Well – These age certifications have the highest median IMDb scores, indicating that both mature content and family-friendly content tend to receive better audience ratings.\n",
        "\n",
        "NC-17 Struggles – Content rated NC-17 has the lowest median IMDb scores, suggesting that extreme or highly restricted content is not well-received.\n",
        "\n",
        "Wide Score Variations – PG, G, and PG-13 movies show a large spread of IMDb scores, meaning their quality and audience reception vary significantly."
      ],
      "metadata": {
        "id": "x-lUsV2mp1ck"
      }
    },
    {
      "cell_type": "markdown",
      "source": [
        "##### 3. Will the gained insights help creating a positive business impact?\n",
        "Are there any insights that lead to negative growth? Justify with specific reason."
      ],
      "metadata": {
        "id": "M7G43BXep1ck"
      }
    },
    {
      "cell_type": "markdown",
      "source": [
        "🚀 Business Impact & Risks\n",
        "\n",
        "✅ Positive Business Impact:\n",
        "\n",
        "Targeting High-Performing Categories – Focusing on TV-MA and TV-PG content, which have higher median IMDb scores, can drive better audience engagement and retention.\n",
        "Strategic Content Investment – Prioritizing age certifications that consistently receive better ratings helps in making data-driven production and acquisition decisions.\n",
        "\n",
        "\n",
        "⚠️ Negative Growth Risks:\n",
        "\n",
        "NC-17 Underperformance – This category has the lowest median IMDb scores, which may lead to poor audience reception, lower watch times, and negative reviews, impacting the platform’s credibility.\n",
        "\n",
        "\"Unknown\" Certification Pitfall – A significant number of low-rated outliers in this category indicate potential issues with unclassified or poorly marketed content, leading to viewer dissatisfaction.\n"
      ],
      "metadata": {
        "id": "5wwDJXsLp1cl"
      }
    },
    {
      "cell_type": "markdown",
      "source": [
        "#### Chart - 13 - Runtime vs IMDB Score vs Release Year"
      ],
      "metadata": {
        "id": "Ag9LCva-p1cl"
      }
    },
    {
      "cell_type": "code",
      "source": [
        "# Chart - 13 visualization code\n",
        "\n",
        "# Assuming your dataframe is named 'title_df'\n",
        "fig = plt.figure(figsize=(10, 8))\n",
        "ax = fig.add_subplot(111, projection='3d')\n",
        "\n",
        "# Create the scatter plot\n",
        "ax.scatter(title_df['runtime'], title_df['imdb_score'], title_df['release_year'],\n",
        "           c=title_df['release_year'], cmap='viridis')  # Color points by release year\n",
        "\n",
        "# Set labels and title\n",
        "ax.set_xlabel('Runtime')\n",
        "ax.set_ylabel('IMDb Score')\n",
        "ax.set_zlabel('Release Year')\n",
        "ax.set_title('3D Scatter Plot of Runtime, IMDb Score, and Release Year')\n",
        "\n",
        "# Show the plot\n",
        "plt.show()\n",
        "\n"
      ],
      "metadata": {
        "id": "EUfxeq9-p1cl"
      },
      "execution_count": null,
      "outputs": []
    },
    {
      "cell_type": "markdown",
      "source": [
        "##### 1. Why did you pick the specific chart?"
      ],
      "metadata": {
        "id": "E6MkPsBcp1cl"
      }
    },
    {
      "cell_type": "markdown",
      "source": [
        "A 3D Scatter Plot was chosen because it best visualizes the relationship between runtime, IMDb score, and release year in a way that a 2D chart cannot. Here's why:\n",
        "\n",
        "1️⃣ Multidimensional Storytelling 📊 – It captures how movie length and ratings have evolved over time.\n",
        "\n",
        "2️⃣ Trend Identification 🔍 – Helps spot patterns, such as whether newer movies tend to have higher scores.\n",
        "\n",
        "3️⃣ Runtime vs. Popularity ⏳ vs. ⭐ – Shows if longer or shorter movies generally receive better IMDb ratings.\n",
        "\n",
        "4️⃣ Historical Perspective 🎞️ – Highlights how movie characteristics have changed over decades."
      ],
      "metadata": {
        "id": "V22bRsFWp1cl"
      }
    },
    {
      "cell_type": "markdown",
      "source": [
        "##### 2. What is/are the insight(s) found from the chart?"
      ],
      "metadata": {
        "id": "2cELzS2fp1cl"
      }
    },
    {
      "cell_type": "markdown",
      "source": [
        "1️⃣ Modern Movies Have Higher IMDb Scores ⭐ – Recent movies (closer to 2020) tend to have higher IMDb scores (yellow dots at the top).\n",
        "\n",
        "2️⃣ Majority of Movies Fall Within 50-150 Minutes ⏳ – Most movies are concentrated in this range, indicating a common runtime preference.\n",
        "\n",
        "3️⃣ Older Movies Have a Broader Runtime Range 🎥 – Movies from earlier decades show a wider spread in runtime, some exceeding 300 minutes.\n",
        "\n",
        "4️⃣ Shorter Movies Are More Common 🟡 – As runtime increases, the density of movies decreases, suggesting long movies are rare."
      ],
      "metadata": {
        "id": "ozQPc2_Ip1cl"
      }
    },
    {
      "cell_type": "markdown",
      "source": [
        "##### 3. Will the gained insights help creating a positive business impact?\n",
        "Are there any insights that lead to negative growth? Justify with specific reason."
      ],
      "metadata": {
        "id": "3MPXvC8up1cl"
      }
    },
    {
      "cell_type": "markdown",
      "source": [
        "Business Impact: Lights, Camera, Action! 🎬💰\n",
        "\n",
        "✅ Positive Impact:\n",
        "\n",
        "The insights help streaming platforms and studios tailor content strategies. If higher IMDb scores correlate with certain runtimes, platforms can recommend or produce content that aligns with audience preferences. Plus, spotting trends in newer vs. older movies helps predict what viewers want next!\n",
        "\n",
        "⚠️ Potential Negative Growth:\n",
        "\n",
        "If runtime is too long and affects engagement, audiences may drop off, leading to lower watch time and retention. Similarly, if older movies with lower scores dominate a catalog, it could lead to subscriber churn on streaming platforms."
      ],
      "metadata": {
        "id": "GL8l1tdLp1cl"
      }
    },
    {
      "cell_type": "markdown",
      "source": [
        "#### Chart - 14 - Correlation Heatmap"
      ],
      "metadata": {
        "id": "NC_X3p0fY2L0"
      }
    },
    {
      "cell_type": "code",
      "source": [
        "numerical_features = ['release_year', 'runtime', 'imdb_score', 'imdb_votes']\n",
        "correlation_matrix = title_df[numerical_features].corr()\n",
        "plt.figure(figsize=(10, 8))  # Adjust figure size if needed\n",
        "sns.heatmap(correlation_matrix, annot=True, cmap='coolwarm', fmt=\".2f\")\n",
        "plt.title('Correlation Matrix')\n",
        "plt.show()"
      ],
      "metadata": {
        "id": "xyC9zolEZNRQ"
      },
      "execution_count": null,
      "outputs": []
    },
    {
      "cell_type": "markdown",
      "source": [
        "##### 1. Why did you pick the specific chart?"
      ],
      "metadata": {
        "id": "UV0SzAkaZNRQ"
      }
    },
    {
      "cell_type": "markdown",
      "source": [
        "The correlation matrix was chosen because it provides a clear and concise way to understand relationships between different numerical variables (release year, runtime, IMDb score, and IMDb votes).\n",
        "\n",
        "Here’s why it’s useful:\n",
        "\n",
        "Identifies Key Influences: It helps detect whether factors like runtime or release year significantly impact IMDb scores or audience engagement.\n",
        "\n",
        "Highlights Weak or Strong Correlations: Instead of just assuming trends, this chart quantifies the strength of relationships.\n",
        "\n",
        "Simplifies Complex Data: A heatmap visually distinguishes strong and weak correlations, making it easier to interpret at a glance.\n",
        "\n",
        "Helps in Decision-Making: Understanding these relationships can help content creators and platforms like Amazon Prime strategize their content better—whether to focus on shorter films, newer releases, or highly rated content."
      ],
      "metadata": {
        "id": "DVPuT8LYZNRQ"
      }
    },
    {
      "cell_type": "markdown",
      "source": [
        "##### 2. What is/are the insight(s) found from the chart?"
      ],
      "metadata": {
        "id": "YPEH6qLeZNRQ"
      }
    },
    {
      "cell_type": "markdown",
      "source": [
        "Insights from the Correlation Matrix Chart:\n",
        "\n",
        "No Strong Relationships: The correlation values are all quite low, suggesting\n",
        "\n",
        "1.   No Strong Relationships: The correlation values are all quite low, suggesting that no single factor (runtime, release year, IMDb score, or votes) heavily influences the others.\n",
        "\n",
        "2.   IMDb Score & Votes (0.17): There is a slight positive correlation, meaning content with higher IMDb ratings tends to receive more votes, but the relationship is weak.\n",
        "\n",
        "3.   Runtime & IMDb Score (-0.10): A weak negative correlation suggests that longer content does not necessarily lead to better IMDb ratings.\n",
        "\n",
        "4.   Release Year & Other Factors: Release year has almost no correlation with IMDb scores or votes, indicating that newer content does not guarantee better engagement or popularity.\n",
        "\n"
      ],
      "metadata": {
        "id": "bfSqtnDqZNRR"
      }
    },
    {
      "cell_type": "markdown",
      "source": [
        "#### Chart - 15 - Pair Plot for Movies and TV Shows"
      ],
      "metadata": {
        "id": "q29F0dvdveiT"
      }
    },
    {
      "cell_type": "code",
      "source": [
        "movies_df = title_df[title_df['type'] == 'MOVIE']\n",
        "shows_df = title_df[title_df['type'] == 'SHOW']\n",
        "sns.pairplot(movies_df[['imdb_score', 'release_year', 'runtime', 'imdb_votes']], kind='scatter', diag_kind='kde', hue='imdb_score')\n",
        "plt.suptitle('Pair Plot for Movies', y=1.02)\n",
        "plt.show()\n",
        "sns.pairplot(shows_df[['imdb_score', 'release_year', 'runtime', 'imdb_votes']], kind='scatter', diag_kind='kde', hue='imdb_score')\n",
        "plt.suptitle('Pair Plot for TV Shows', y=1.02)\n",
        "plt.show()"
      ],
      "metadata": {
        "id": "o58-TEIhveiU"
      },
      "execution_count": null,
      "outputs": []
    },
    {
      "cell_type": "markdown",
      "source": [
        "##### 1. Why did you pick the specific chart?"
      ],
      "metadata": {
        "id": "EXh0U9oCveiU"
      }
    },
    {
      "cell_type": "markdown",
      "source": [
        "The specific pair plot was chosen because it effectively visualizes relationships between multiple numerical variables, such as release year, runtime, IMDb votes, and IMDb scores.\n",
        "\n",
        "Reasons for choosing this chart:\n",
        "\n",
        "\n",
        "1.   Comprehensive Comparison – It allows for a side-by-side analysis of how different variables interact, helping identify trends and correlations.\n",
        "\n",
        "2.   Density Visualization – The inclusion of KDE (Kernel Density Estimation) contours highlights data concentration areas, making it easier to spot patterns.\n",
        "\n",
        "3.   Outlier Detection – The scatter plots reveal anomalies, such as movies with extremely high IMDb votes or unusually long runtimes.\n",
        "\n",
        "4.   Easy Comparisons – By using different hues for IMDb scores, it visually differentiates high-rated and low-rated content.\n",
        "\n",
        "\n"
      ],
      "metadata": {
        "id": "eMmPjTByveiU"
      }
    },
    {
      "cell_type": "markdown",
      "source": [
        "##### 2. What is/are the insight(s) found from the chart?"
      ],
      "metadata": {
        "id": "22aHeOlLveiV"
      }
    },
    {
      "cell_type": "markdown",
      "source": [
        "From the charts, the following insights can be observed:\n",
        "\n",
        "Most Popular Movies & TV Shows – The charts highlight the most popular movies and TV shows based on IMDb votes, with movies like Titanic and shows from recent decades dominating.\n",
        "\n",
        "Trends Over Time – There is a clear increase in the number of movies and TV shows produced after the 1980s, showing the growth of the entertainment industry.\n",
        "\n",
        "Runtime vs. Popularity – Most popular movies and TV shows tend to have a runtime within a specific range (typically under 200 minutes for movies and 60 minutes per episode for TV shows).\n",
        "\n",
        "IMDb Score Distribution – Higher-rated movies and shows generally receive more votes, reinforcing the correlation between critical acclaim and audience engagement."
      ],
      "metadata": {
        "id": "uPQ8RGwHveiV"
      }
    },
    {
      "cell_type": "markdown",
      "source": [
        "## **5. Solution to Business Objective**"
      ],
      "metadata": {
        "id": "JcMwzZxoAimU"
      }
    },
    {
      "cell_type": "markdown",
      "source": [
        "#### What do you suggest the client to achieve Business Objective ?\n",
        "Explain Briefly."
      ],
      "metadata": {
        "id": "8G2x9gOozGDZ"
      }
    },
    {
      "cell_type": "markdown",
      "source": [
        "Based on the Exploratory Data Analysis (EDA) of Amazon Prime, here are strategic recommendations to maximize business growth:\n",
        "\n",
        "📌 1. Invest in High-Performing Genres\n",
        "\n",
        "Drama, Action, Comedy, and Thriller are the most popular genres based on IMDB votes.\n",
        "Strategy: Increase investments in these genres through exclusive Amazon Originals and licensing high-rated content.\n",
        "\n",
        "📌 2. Leverage Genre-Specific Marketing\n",
        "\n",
        "Thriller and Romance have high engagement—perfect for targeted marketing campaigns.\n",
        "Strategy: Use personalized recommendations and AI-driven promotions to boost viewership.\n",
        "\n",
        "📌 3. Optimize Content for Series vs. Movies\n",
        "\n",
        "Drama dominates both movies and series, indicating strong audience loyalty to long-format storytelling.\n",
        "Strategy: Focus on long-running series and anthology-based content to retain subscribers.\n",
        "\n",
        "📌 4. Strengthen Niche & Underrated Genres\n",
        "\n",
        "Genres like Documentary, Music, and War have lower engagement but can attract specific user bases.\n",
        "Strategy: Improve visibility through bundled content strategies and AI-driven curation to push niche content to relevant audiences."
      ],
      "metadata": {
        "id": "pASKb0qOza21"
      }
    },
    {
      "cell_type": "markdown",
      "source": [
        "# **Conclusion**"
      ],
      "metadata": {
        "id": "gCX9965dhzqZ"
      }
    },
    {
      "cell_type": "markdown",
      "source": [
        "Our exploratory data analysis (EDA) of Amazon Prime content reveals key insights into its library. We observed a dominance of recent releases, indicating a strong focus on fresh content. IMDb scores suggest a mix of highly rated and average content, with certain genres consistently performing well.\n",
        "\n",
        "Key Takeaways:\n",
        "\n",
        "*   Movies vs. TV Shows – Movies have a wider range of runtimes, while TV shows tend to have more clustered durations.\n",
        "\n",
        "*   Viewer Engagement – High IMDb votes correlate with popular titles, reflecting audience preference.\n",
        "\n",
        "*   Genre & Ratings – Some genres consistently receive higher ratings, guiding content curation decisions.\n",
        "\n",
        "\n"
      ],
      "metadata": {
        "id": "Fjb1IsQkh3yE"
      }
    },
    {
      "cell_type": "markdown",
      "source": [
        "### ***Hurrah! You have successfully completed your EDA Capstone Project !!!***"
      ],
      "metadata": {
        "id": "gIfDvo9L0UH2"
      }
    }
  ]
}